{
 "cells": [
  {
   "cell_type": "code",
   "execution_count": 24,
   "metadata": {},
   "outputs": [],
   "source": [
    "class Ts:\n",
    "    def __init__(self):\n",
    "        print(\"This class only take Sides!!\")\n",
    "    \n",
    "    def takes(self):\n",
    "        while True:\n",
    "            try:\n",
    "                x = int(input(\"Enter sides of a triangle, First Side : \"))\n",
    "            except ValueError:\n",
    "                print(\"Please Enter an Integer\")\n",
    "            else:\n",
    "                break\n",
    "        while True:\n",
    "            try:\n",
    "                y = int(input(\"Next Side : \"))\n",
    "            except ValueError:\n",
    "                print(\"Please Enter an Integer\")\n",
    "            else:\n",
    "                break\n",
    "        while True:\n",
    "            try:\n",
    "                z = int(input(\"Last Side : \"))\n",
    "            except ValueError:\n",
    "                print(\"Please Enter an Integer\")\n",
    "            else:\n",
    "                break\n",
    "        self.a = x\n",
    "        self.b = y\n",
    "        self.c = z\n",
    "        self.s = float(self.a+ self.b +self.c) / 2\n",
    "        print(\"The sides of the triangle entered are : {}, {} and {}. Also the semi-parameter calculated is {}\".format(self.a,self.b,self.c,self.s))"
   ]
  },
  {
   "cell_type": "code",
   "execution_count": 25,
   "metadata": {},
   "outputs": [],
   "source": [
    "class Ta(Ts):\n",
    "    def __init__(self):\n",
    "        \n",
    "        print(\"We Calculate Area Here!!\")\n",
    "        \n",
    "    \n",
    "    def cal(self):\n",
    "        \n",
    "        area = (self.s*(self.s-self.a)*(self.s-self.b)*(self.s-self.c)) ** 0.5\n",
    "        return \"The Area of the Triangle is : {}\".format(area)"
   ]
  },
  {
   "cell_type": "code",
   "execution_count": 26,
   "metadata": {},
   "outputs": [
    {
     "name": "stdout",
     "output_type": "stream",
     "text": [
      "We Calculate Area Here!!\n"
     ]
    }
   ],
   "source": [
    "tri = Ta()"
   ]
  },
  {
   "cell_type": "code",
   "execution_count": 31,
   "metadata": {},
   "outputs": [
    {
     "name": "stdout",
     "output_type": "stream",
     "text": [
      "Enter sides of a triangle, First Side : \n",
      "Please Enter an Integer\n",
      "Enter sides of a triangle, First Side : 5\n",
      "Next Side : 4\n",
      "Last Side : 3\n",
      "The sides of the triangle entered are : 5, 4 and 3. Also the semi-parameter calculated is 6.0\n"
     ]
    }
   ],
   "source": [
    "tri.takes()"
   ]
  },
  {
   "cell_type": "code",
   "execution_count": 32,
   "metadata": {},
   "outputs": [
    {
     "name": "stdout",
     "output_type": "stream",
     "text": [
      "The Area of the Triangle is : 6.0\n"
     ]
    }
   ],
   "source": [
    "print(tri.cal())"
   ]
  },
  {
   "cell_type": "code",
   "execution_count": null,
   "metadata": {},
   "outputs": [],
   "source": []
  }
 ],
 "metadata": {
  "kernelspec": {
   "display_name": "Python 3",
   "language": "python",
   "name": "python3"
  },
  "language_info": {
   "codemirror_mode": {
    "name": "ipython",
    "version": 3
   },
   "file_extension": ".py",
   "mimetype": "text/x-python",
   "name": "python",
   "nbconvert_exporter": "python",
   "pygments_lexer": "ipython3",
   "version": "3.7.7"
  }
 },
 "nbformat": 4,
 "nbformat_minor": 4
}
