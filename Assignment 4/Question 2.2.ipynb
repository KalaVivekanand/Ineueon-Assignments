{
 "cells": [
  {
   "cell_type": "code",
   "execution_count": 1,
   "metadata": {},
   "outputs": [],
   "source": [
    "def isvow(a):\n",
    "    a = a.lower()\n",
    "    if(a == 'a' or a=='o' or a=='u' or a=='e' or a == 'i'):\n",
    "        print(\"The entered character is a vowel!\")\n",
    "    else:\n",
    "        print(\"The entered characted is not a vowel!\")"
   ]
  },
  {
   "cell_type": "code",
   "execution_count": 2,
   "metadata": {},
   "outputs": [
    {
     "name": "stdout",
     "output_type": "stream",
     "text": [
      "\n",
      "Please input 1 character : 4\n",
      "\n",
      "Error : Please input a letter!!\n",
      "\n",
      "Please input 1 character : rwe\n",
      "\n",
      "Error : Please enter only 1 character!!\n",
      "\n",
      "Please input 1 character : y\n",
      "The entered characted is not a vowel!\n"
     ]
    }
   ],
   "source": [
    "while True:\n",
    "        a = input(\"\\nPlease input 1 character : \")\n",
    "        if not a.isalpha():\n",
    "            print(\"\\nError : Please input a letter!!\")\n",
    "            continue\n",
    "        elif len(a)> 1:\n",
    "            print(\"\\nError : Please enter only 1 character!!\")\n",
    "            continue\n",
    "        else:\n",
    "            break\n",
    "isvow(a)"
   ]
  },
  {
   "cell_type": "code",
   "execution_count": null,
   "metadata": {},
   "outputs": [],
   "source": []
  },
  {
   "cell_type": "code",
   "execution_count": null,
   "metadata": {},
   "outputs": [],
   "source": []
  }
 ],
 "metadata": {
  "kernelspec": {
   "display_name": "Python 3",
   "language": "python",
   "name": "python3"
  },
  "language_info": {
   "codemirror_mode": {
    "name": "ipython",
    "version": 3
   },
   "file_extension": ".py",
   "mimetype": "text/x-python",
   "name": "python",
   "nbconvert_exporter": "python",
   "pygments_lexer": "ipython3",
   "version": "3.7.7"
  }
 },
 "nbformat": 4,
 "nbformat_minor": 4
}
