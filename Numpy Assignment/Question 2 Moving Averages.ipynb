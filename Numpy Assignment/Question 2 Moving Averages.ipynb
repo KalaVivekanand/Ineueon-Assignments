{
 "cells": [
  {
   "cell_type": "code",
   "execution_count": 1,
   "metadata": {},
   "outputs": [],
   "source": [
    "import numpy as np"
   ]
  },
  {
   "cell_type": "code",
   "execution_count": 3,
   "metadata": {},
   "outputs": [],
   "source": [
    "list1 = [3, 5, 7, 2, 8, 10, 11, 65, 72, 81, 99, 100, 150]\n",
    "arr = np.asarray(list1)"
   ]
  },
  {
   "cell_type": "code",
   "execution_count": 4,
   "metadata": {},
   "outputs": [],
   "source": [
    "window = 3"
   ]
  },
  {
   "cell_type": "code",
   "execution_count": 19,
   "metadata": {},
   "outputs": [],
   "source": [
    "def moving_avg(w,arr):\n",
    "    averages = []\n",
    "    for i in range(len(arr) - w + 1):  # 13 - 3 + 1  i.e. n - k + 1\n",
    "        avg_win = (arr[i] + arr[i+1] + arr[i+2])/w\n",
    "        averages.append(avg_win)\n",
    "    return averages"
   ]
  },
  {
   "cell_type": "code",
   "execution_count": 25,
   "metadata": {},
   "outputs": [
    {
     "name": "stdout",
     "output_type": "stream",
     "text": [
      "[5.0, 4.666666666666667, 5.666666666666667, 6.666666666666667, 9.666666666666666, 28.666666666666668, 49.333333333333336, 72.66666666666667, 84.0, 93.33333333333333, 116.33333333333333] \n",
      "\n",
      "Number of elements in the list of moving averages : 11\n"
     ]
    }
   ],
   "source": [
    "mavg = moving_avg(window,arr) \n",
    "print(mavg,'\\n')\n",
    "# The number of elemnts in this should be n-k+ 1 = 13-3 + 1 = 11\n",
    "print(\"Number of elements in the list of moving averages : {}\".format(len(mavg)))"
   ]
  },
  {
   "cell_type": "code",
   "execution_count": null,
   "metadata": {},
   "outputs": [],
   "source": []
  }
 ],
 "metadata": {
  "kernelspec": {
   "display_name": "Python 3",
   "language": "python",
   "name": "python3"
  },
  "language_info": {
   "codemirror_mode": {
    "name": "ipython",
    "version": 3
   },
   "file_extension": ".py",
   "mimetype": "text/x-python",
   "name": "python",
   "nbconvert_exporter": "python",
   "pygments_lexer": "ipython3",
   "version": "3.7.7"
  }
 },
 "nbformat": 4,
 "nbformat_minor": 4
}
